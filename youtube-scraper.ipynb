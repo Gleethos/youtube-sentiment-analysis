{
 "cells": [
  {
   "cell_type": "markdown",
   "metadata": {},
   "source": [
    "\n",
    "# Youtube - Scaper\n",
    "\n"
   ]
  },
  {
   "cell_type": "code",
   "execution_count": 1,
   "metadata": {},
   "outputs": [],
   "source": [
    "from pyppeteer import launch\n",
    "from fake_useragent import UserAgent\n",
    "from bs4 import BeautifulSoup\n",
    "import time\n",
    "\n",
    "# for extended documentation visit --> https://miyakogi.github.io/pyppeteer/\n",
    "# !!! function could only be called with await !!!\n",
    "async def scrape(url_: str, selector_: str, page_function_ = \"(element) => element.outerHTML\",\n",
    "                 bypass_google_anti_scrape_algorithm_ = False, log_ = True):\n",
    "    if log_ : print(\"-------------------------Scrape Log Begin--------------------------\", \"\\n\")\n",
    "    #create random user agent so YouTube's algorithm gets pypassed\n",
    "    ua = UserAgent()\n",
    "    agent = ua.random\n",
    "    \n",
    "    # create browser, incognito context and page\n",
    "    browser = await launch()\n",
    "    context = await browser.createIncognitoBrowserContext()\n",
    "    page = await context.newPage()\n",
    "    if log_ : print(\"Browser, Incognito Context and Page created\")\n",
    "    \n",
    "    # set user agent\n",
    "    await page.setUserAgent(agent)\n",
    "    if log_ : print(\"User Agent:\", agent)\n",
    "    \n",
    "    # open url\n",
    "    await page.goto(url_)\n",
    "    if log_ : print(\"Url opened:\", url_)\n",
    "        \n",
    "    if bypass_google_anti_scrape_algorithm_:\n",
    "        await page.waitForSelector(\"h1.title\")\n",
    "        await page.click(\"h1.title\")\n",
    "        time.sleep(5)\n",
    "        await page.keyboard.press(\"End\")\n",
    "    \n",
    "    # wait until page gets loaded\n",
    "    await page.waitForSelector(selector_)\n",
    "    if log_ : print(\"Selector loaded:\", selector_)\n",
    "        \n",
    "    await page.click(selector_)\n",
    "        \n",
    "    if bypass_google_anti_scrape_algorithm_:\n",
    "        time.sleep(3)\n",
    "        \n",
    "    await page.click(selector_)\n",
    "    \n",
    "    # get element from query selector and relating function\n",
    "    request_result = await page.querySelectorEval(selector_, page_function_)\n",
    "    if log_ : print(\"Request finished\")\n",
    "\n",
    "    # close browser\n",
    "    await browser.close()\n",
    "    if log_ : print(\"Browser closed\", \"\\n\")\n",
    "    if log_ : print(\"-------------------------Scrape Log End----------------------------\", \"\\n\")\n",
    "    \n",
    "    return request_result"
   ]
  },
  {
   "cell_type": "markdown",
   "metadata": {},
   "source": [
    "## Let's test the \"scrape\" method: ##"
   ]
  },
  {
   "cell_type": "code",
   "execution_count": 3,
   "metadata": {
    "jupyter": {
     "outputs_hidden": false
    },
    "pycharm": {
     "name": "#%%\n"
    }
   },
   "outputs": [
    {
     "name": "stdout",
     "output_type": "stream",
     "text": [
      "-------------------------Scrape Log Begin-------------------------- \n",
      "\n",
      "Browser, Incognito Context and Page created\n",
      "User Agent: Opera/9.80 (Windows NT 6.1; WOW64; U; pt) Presto/2.10.229 Version/11.62\n",
      "Url opened: https://www.youtube.com/watch?v=dyN_WtjdfpA&list=PLhTjy8cBISEoOtB5_nwykvB9wfEDscuEo\n",
      "Selector loaded: h1.title\n"
     ]
    },
    {
     "ename": "ElementHandleError",
     "evalue": "Node is either not visible or not an HTMLElement",
     "output_type": "error",
     "traceback": [
      "\u001b[1;31m---------------------------------------------------------------------------\u001b[0m",
      "\u001b[1;31mElementHandleError\u001b[0m                        Traceback (most recent call last)",
      "\u001b[1;32m<ipython-input-3-6368c99a1d5f>\u001b[0m in \u001b[0;36masync-def-wrapper\u001b[1;34m()\u001b[0m\n\u001b[0;32m      8\u001b[0m \u001b[1;33m\u001b[0m\u001b[0m\n\u001b[0;32m      9\u001b[0m \u001b[0mprint\u001b[0m\u001b[1;33m(\u001b[0m\u001b[0mtitle\u001b[0m\u001b[1;33m)\u001b[0m\u001b[1;33m\u001b[0m\u001b[1;33m\u001b[0m\u001b[0m\n",
      "\u001b[1;32m<ipython-input-1-2880b44c514a>\u001b[0m in \u001b[0;36mscrape\u001b[1;34m(url_, selector_, page_function_, bypass_google_anti_scrape_algorithm_, log_)\u001b[0m\n\u001b[0;32m     37\u001b[0m     \u001b[1;32mif\u001b[0m \u001b[0mlog_\u001b[0m \u001b[1;33m:\u001b[0m \u001b[0mprint\u001b[0m\u001b[1;33m(\u001b[0m\u001b[1;34m\"Selector loaded:\"\u001b[0m\u001b[1;33m,\u001b[0m \u001b[0mselector_\u001b[0m\u001b[1;33m)\u001b[0m\u001b[1;33m\u001b[0m\u001b[1;33m\u001b[0m\u001b[0m\n\u001b[0;32m     38\u001b[0m \u001b[1;33m\u001b[0m\u001b[0m\n\u001b[1;32m---> 39\u001b[1;33m     \u001b[1;32mawait\u001b[0m \u001b[0mpage\u001b[0m\u001b[1;33m.\u001b[0m\u001b[0mclick\u001b[0m\u001b[1;33m(\u001b[0m\u001b[0mselector_\u001b[0m\u001b[1;33m)\u001b[0m\u001b[1;33m\u001b[0m\u001b[1;33m\u001b[0m\u001b[0m\n\u001b[0m\u001b[0;32m     40\u001b[0m \u001b[1;33m\u001b[0m\u001b[0m\n\u001b[0;32m     41\u001b[0m     \u001b[1;32mif\u001b[0m \u001b[0mbypass_google_anti_scrape_algorithm_\u001b[0m\u001b[1;33m:\u001b[0m\u001b[1;33m\u001b[0m\u001b[1;33m\u001b[0m\u001b[0m\n",
      "\u001b[1;32m~\\Anaconda3\\envs\\dasi\\lib\\site-packages\\pyppeteer\\page.py\u001b[0m in \u001b[0;36mclick\u001b[1;34m(self, selector, options, **kwargs)\u001b[0m\n\u001b[0;32m   1544\u001b[0m         \u001b[1;32mif\u001b[0m \u001b[0mframe\u001b[0m \u001b[1;32mis\u001b[0m \u001b[1;32mNone\u001b[0m\u001b[1;33m:\u001b[0m\u001b[1;33m\u001b[0m\u001b[1;33m\u001b[0m\u001b[0m\n\u001b[0;32m   1545\u001b[0m             \u001b[1;32mraise\u001b[0m \u001b[0mPageError\u001b[0m\u001b[1;33m(\u001b[0m\u001b[1;34m'No main frame.'\u001b[0m\u001b[1;33m)\u001b[0m\u001b[1;33m\u001b[0m\u001b[1;33m\u001b[0m\u001b[0m\n\u001b[1;32m-> 1546\u001b[1;33m         \u001b[1;32mawait\u001b[0m \u001b[0mframe\u001b[0m\u001b[1;33m.\u001b[0m\u001b[0mclick\u001b[0m\u001b[1;33m(\u001b[0m\u001b[0mselector\u001b[0m\u001b[1;33m,\u001b[0m \u001b[0moptions\u001b[0m\u001b[1;33m,\u001b[0m \u001b[1;33m**\u001b[0m\u001b[0mkwargs\u001b[0m\u001b[1;33m)\u001b[0m\u001b[1;33m\u001b[0m\u001b[1;33m\u001b[0m\u001b[0m\n\u001b[0m\u001b[0;32m   1547\u001b[0m \u001b[1;33m\u001b[0m\u001b[0m\n\u001b[0;32m   1548\u001b[0m     \u001b[1;32masync\u001b[0m \u001b[1;32mdef\u001b[0m \u001b[0mhover\u001b[0m\u001b[1;33m(\u001b[0m\u001b[0mself\u001b[0m\u001b[1;33m,\u001b[0m \u001b[0mselector\u001b[0m\u001b[1;33m:\u001b[0m \u001b[0mstr\u001b[0m\u001b[1;33m)\u001b[0m \u001b[1;33m->\u001b[0m \u001b[1;32mNone\u001b[0m\u001b[1;33m:\u001b[0m\u001b[1;33m\u001b[0m\u001b[1;33m\u001b[0m\u001b[0m\n",
      "\u001b[1;32m~\\Anaconda3\\envs\\dasi\\lib\\site-packages\\pyppeteer\\frame_manager.py\u001b[0m in \u001b[0;36mclick\u001b[1;34m(self, selector, options, **kwargs)\u001b[0m\n\u001b[0;32m    582\u001b[0m         \u001b[1;32mif\u001b[0m \u001b[1;32mnot\u001b[0m \u001b[0mhandle\u001b[0m\u001b[1;33m:\u001b[0m\u001b[1;33m\u001b[0m\u001b[1;33m\u001b[0m\u001b[0m\n\u001b[0;32m    583\u001b[0m             \u001b[1;32mraise\u001b[0m \u001b[0mPageError\u001b[0m\u001b[1;33m(\u001b[0m\u001b[1;34m'No node found for selector: '\u001b[0m \u001b[1;33m+\u001b[0m \u001b[0mselector\u001b[0m\u001b[1;33m)\u001b[0m\u001b[1;33m\u001b[0m\u001b[1;33m\u001b[0m\u001b[0m\n\u001b[1;32m--> 584\u001b[1;33m         \u001b[1;32mawait\u001b[0m \u001b[0mhandle\u001b[0m\u001b[1;33m.\u001b[0m\u001b[0mclick\u001b[0m\u001b[1;33m(\u001b[0m\u001b[0moptions\u001b[0m\u001b[1;33m)\u001b[0m\u001b[1;33m\u001b[0m\u001b[1;33m\u001b[0m\u001b[0m\n\u001b[0m\u001b[0;32m    585\u001b[0m         \u001b[1;32mawait\u001b[0m \u001b[0mhandle\u001b[0m\u001b[1;33m.\u001b[0m\u001b[0mdispose\u001b[0m\u001b[1;33m(\u001b[0m\u001b[1;33m)\u001b[0m\u001b[1;33m\u001b[0m\u001b[1;33m\u001b[0m\u001b[0m\n\u001b[0;32m    586\u001b[0m \u001b[1;33m\u001b[0m\u001b[0m\n",
      "\u001b[1;32m~\\Anaconda3\\envs\\dasi\\lib\\site-packages\\pyppeteer\\element_handle.py\u001b[0m in \u001b[0;36mclick\u001b[1;34m(self, options, **kwargs)\u001b[0m\n\u001b[0;32m    176\u001b[0m         \u001b[0moptions\u001b[0m \u001b[1;33m=\u001b[0m \u001b[0mmerge_dict\u001b[0m\u001b[1;33m(\u001b[0m\u001b[0moptions\u001b[0m\u001b[1;33m,\u001b[0m \u001b[0mkwargs\u001b[0m\u001b[1;33m)\u001b[0m\u001b[1;33m\u001b[0m\u001b[1;33m\u001b[0m\u001b[0m\n\u001b[0;32m    177\u001b[0m         \u001b[1;32mawait\u001b[0m \u001b[0mself\u001b[0m\u001b[1;33m.\u001b[0m\u001b[0m_scrollIntoViewIfNeeded\u001b[0m\u001b[1;33m(\u001b[0m\u001b[1;33m)\u001b[0m\u001b[1;33m\u001b[0m\u001b[1;33m\u001b[0m\u001b[0m\n\u001b[1;32m--> 178\u001b[1;33m         \u001b[0mobj\u001b[0m \u001b[1;33m=\u001b[0m \u001b[1;32mawait\u001b[0m \u001b[0mself\u001b[0m\u001b[1;33m.\u001b[0m\u001b[0m_clickablePoint\u001b[0m\u001b[1;33m(\u001b[0m\u001b[1;33m)\u001b[0m\u001b[1;33m\u001b[0m\u001b[1;33m\u001b[0m\u001b[0m\n\u001b[0m\u001b[0;32m    179\u001b[0m         \u001b[0mx\u001b[0m \u001b[1;33m=\u001b[0m \u001b[0mobj\u001b[0m\u001b[1;33m.\u001b[0m\u001b[0mget\u001b[0m\u001b[1;33m(\u001b[0m\u001b[1;34m'x'\u001b[0m\u001b[1;33m,\u001b[0m \u001b[1;36m0\u001b[0m\u001b[1;33m)\u001b[0m\u001b[1;33m\u001b[0m\u001b[1;33m\u001b[0m\u001b[0m\n\u001b[0;32m    180\u001b[0m         \u001b[0my\u001b[0m \u001b[1;33m=\u001b[0m \u001b[0mobj\u001b[0m\u001b[1;33m.\u001b[0m\u001b[0mget\u001b[0m\u001b[1;33m(\u001b[0m\u001b[1;34m'y'\u001b[0m\u001b[1;33m,\u001b[0m \u001b[1;36m0\u001b[0m\u001b[1;33m)\u001b[0m\u001b[1;33m\u001b[0m\u001b[1;33m\u001b[0m\u001b[0m\n",
      "\u001b[1;32m~\\Anaconda3\\envs\\dasi\\lib\\site-packages\\pyppeteer\\element_handle.py\u001b[0m in \u001b[0;36m_clickablePoint\u001b[1;34m(self)\u001b[0m\n\u001b[0;32m    110\u001b[0m         \u001b[1;32mif\u001b[0m \u001b[1;32mnot\u001b[0m \u001b[0mresult\u001b[0m \u001b[1;32mor\u001b[0m \u001b[1;32mnot\u001b[0m \u001b[0mresult\u001b[0m\u001b[1;33m.\u001b[0m\u001b[0mget\u001b[0m\u001b[1;33m(\u001b[0m\u001b[1;34m'quads'\u001b[0m\u001b[1;33m)\u001b[0m\u001b[1;33m:\u001b[0m\u001b[1;33m\u001b[0m\u001b[1;33m\u001b[0m\u001b[0m\n\u001b[0;32m    111\u001b[0m             raise ElementHandleError(\n\u001b[1;32m--> 112\u001b[1;33m                 'Node is either not visible or not an HTMLElement')\n\u001b[0m\u001b[0;32m    113\u001b[0m \u001b[1;33m\u001b[0m\u001b[0m\n\u001b[0;32m    114\u001b[0m         \u001b[0mquads\u001b[0m \u001b[1;33m=\u001b[0m \u001b[1;33m[\u001b[0m\u001b[1;33m]\u001b[0m\u001b[1;33m\u001b[0m\u001b[1;33m\u001b[0m\u001b[0m\n",
      "\u001b[1;31mElementHandleError\u001b[0m: Node is either not visible or not an HTMLElement"
     ]
    }
   ],
   "source": [
    "# get YouTube Video Title\n",
    "\n",
    "url = \"https://www.youtube.com/watch?v=dyN_WtjdfpA&list=PLhTjy8cBISEoOtB5_nwykvB9wfEDscuEo\"\n",
    "query_selector = \"h1.title\"\n",
    "function = \"(element) => element.firstChild.innerHTML\"\n",
    "\n",
    "title = await scrape(url, query_selector, function)\n",
    "                      \n",
    "print(title)"
   ]
  },
  {
   "cell_type": "markdown",
   "metadata": {},
   "source": [
    "## Let's play around with BeautifulSoup for html parsing: ##"
   ]
  },
  {
   "cell_type": "code",
   "execution_count": 4,
   "metadata": {},
   "outputs": [
    {
     "name": "stdout",
     "output_type": "stream",
     "text": [
      "-------------------------Scrape Log Begin-------------------------- \n",
      "\n",
      "Browser, Incognito Context and Page created\n",
      "User Agent: Mozilla/5.0 (Macintosh; Intel Mac OS X 10_8_0) AppleWebKit/537.36 (KHTML, like Gecko) Chrome/32.0.1664.3 Safari/537.36\n",
      "Url opened: https://www.youtube.com/watch?v=dyN_WtjdfpA&list=PLhTjy8cBISEoOtB5_nwykvB9wfEDscuEo\n",
      "Selector loaded: ytd-comments\n",
      "Request finished\n",
      "Browser closed \n",
      "\n",
      "-------------------------Scrape Log End---------------------------- \n",
      "\n"
     ]
    }
   ],
   "source": [
    "# get comments and their authors as html\n",
    "\n",
    "url = \"https://www.youtube.com/watch?v=dyN_WtjdfpA&list=PLhTjy8cBISEoOtB5_nwykvB9wfEDscuEo\"\n",
    "query_selector = \"ytd-comments\"\n",
    "function = \"(element) => element.outerHTML\"\n",
    "\n",
    "html = await scrape(url, query_selector, function, True)"
   ]
  },
  {
   "cell_type": "code",
   "execution_count": 5,
   "metadata": {
    "jupyter": {
     "outputs_hidden": false
    },
    "pycharm": {
     "name": "#%%\n"
    }
   },
   "outputs": [
    {
     "data": {
      "text/plain": [
       "[('morthim', \"i'm really impressed by your emotions dict.\"),\n",
       " ('vaishnavi kulkarni',\n",
       "  'your space invader game tutorial is amazing! Hope to see more videos on python during Quarantine!!'),\n",
       " ('IndieSpaceAstronaut', 'Love the hashtags lol'),\n",
       " ('reda bekka', 'PLease can u make a course of mouvment detections'),\n",
       " ('Dr Scary', 'Our Boiii Is Back Lol :)'),\n",
       " ('Usama Iftikhar Butt', 'please upload 2 3 videos weekly'),\n",
       " ('Usama Iftikhar Butt', 'great series'),\n",
       " ('Alma Jose',\n",
       "  'can someone please give me code for finding different emotions like sad happy angry and neutral from lyrics of song.'),\n",
       " ('Aditya Pai Thon', 'Boii is bacccc'),\n",
       " ('Hasna Bouazza', 'could we have the code .py')]"
      ]
     },
     "execution_count": 5,
     "metadata": {},
     "output_type": "execute_result"
    }
   ],
   "source": [
    "# parse html and assign them\n",
    "\n",
    "def _parse_comments_with_corresponding_authors(html_, log_ = True):\n",
    "    soup = BeautifulSoup(html, features=\"html.parser\")\n",
    "\n",
    "    # get authors of comments and clear html data\n",
    "    authors = [item.text.strip() for item in soup.select(\"a[id=author-text] > span\")]\n",
    "\n",
    "    # get comments and clear html data\n",
    "    comments = [item.text.strip().replace(\"\\n\", \" \") for item in soup.select(\"yt-formatted-string[id=content-text]\")]\n",
    "\n",
    "    comments_with_authors = list(zip(authors, comments))\n",
    "    \n",
    "    if log_:\n",
    "        print(\"Finished parsing\")\n",
    "        #for author, comment in comments_with_authors:\n",
    "        #    print(author, \"wrote:\\n -\" + comment)\n",
    "    \n",
    "    return comments_with_authors\n",
    "\n",
    "_parse_comments_with_corresponding_authors(html, False)"
   ]
  },
  {
   "cell_type": "markdown",
   "metadata": {},
   "source": [
    "## Let's build parser methods: ##"
   ]
  },
  {
   "cell_type": "code",
   "execution_count": 6,
   "metadata": {},
   "outputs": [
    {
     "data": {
      "text/plain": [
       "'Sentiment Analysis Python - 1 -  Introduction to Emotion Analysis  (NLP)'"
      ]
     },
     "execution_count": 6,
     "metadata": {},
     "output_type": "execute_result"
    }
   ],
   "source": [
    "# scrape and parse YouTube Title\n",
    "\n",
    "# returns title as string\n",
    "# function is asynchronous and therefore it has to be awaited\n",
    "async def _scrape_and_parse_youtube_title(url: str, log_ = True):\n",
    "    if \"youtube.com\" in url:\n",
    "        return await scrape(url, \"h1.title\", \"(element) => element.firstChild.innerHTML\", log_ = log_)\n",
    "    else:\n",
    "        print(\"Wrong url format given!\")\n",
    "        \n",
    "await _scrape_and_parse_youtube_title(\"https://www.youtube.com/watch?v=dyN_WtjdfpA&list=PLhTjy8cBISEoOtB5_nwykvB9wfEDscuEo\", log_ = False)"
   ]
  },
  {
   "cell_type": "code",
   "execution_count": 31,
   "metadata": {},
   "outputs": [
    {
     "data": {
      "text/plain": [
       "'<div id=\"info-contents\" class=\"style-scope ytd-watch-flexy\"><ytd-video-primary-info-renderer class=\"style-scope ytd-watch-flexy\" has-date-text_=\"\"><div id=\"container\" class=\"style-scope ytd-video-primary-info-renderer\"><ytd-badge-supported-renderer class=\"style-scope ytd-video-primary-info-renderer\" disable-upgrade=\"\" hidden=\"\"></ytd-badge-supported-renderer><a class=\"yt-simple-endpoint style-scope ytd-video-primary-info-renderer\" href=\"/results?search_query=%23donaldtrump\" hidden=\"\"><yt-icon class=\"super-title-icon style-scope ytd-video-primary-info-renderer\" icon=\"yt-icons:location_pin\"><svg viewBox=\"0 0 24 24\" preserveAspectRatio=\"xMidYMid meet\" focusable=\"false\" class=\"style-scope yt-icon\" style=\"pointer-events: none; display: block; width: 100%; height: 100%;\"><g class=\"style-scope yt-icon\"><path d=\"M12 2C8.13 2 5 5.13 5 9c0 5.25 7 13 7 13s7-7.75 7-13c0-3.87-3.13-7-7-7zm0 9.5c-1.38 0-2.5-1.12-2.5-2.5s1.12-2.5 2.5-2.5 2.5 1.12 2.5 2.5-1.12 2.5-2.5 2.5z\" class=\"style-scope yt-icon\"></path><path d=\"M0 0h24v24H0z\" fill=\"none\" class=\"style-scope yt-icon\"></path></g></svg></yt-icon></a><yt-formatted-string class=\"super-title style-scope ytd-video-primary-info-renderer\" force-default-style=\"\"><a class=\"yt-simple-endpoint style-scope yt-formatted-string\" spellcheck=\"false\" href=\"/results?search_query=%23donaldtrump\" dir=\"auto\">#donaldtrump</a><span dir=\"auto\" class=\"style-scope yt-formatted-string\"> </span><a class=\"yt-simple-endpoint style-scope yt-formatted-string\" spellcheck=\"false\" href=\"/results?search_query=%23python\" dir=\"auto\">#python</a><span dir=\"auto\" class=\"style-scope yt-formatted-string\"> </span><a class=\"yt-simple-endpoint style-scope yt-formatted-string\" spellcheck=\"false\" href=\"/results?search_query=%23nltk\" dir=\"auto\">#nltk</a></yt-formatted-string><h1 class=\"title style-scope ytd-video-primary-info-renderer\"><yt-formatted-string force-default-style=\"\" class=\"style-scope ytd-video-primary-info-renderer\">Sentiment Analysis Python - 1 -  Introduction to Emotion Analysis  (NLP)</yt-formatted-string></h1><ytd-badge-supported-renderer class=\"style-scope ytd-video-primary-info-renderer\" disable-upgrade=\"\" hidden=\"\"></ytd-badge-supported-renderer><div id=\"info\" class=\"style-scope ytd-video-primary-info-renderer\"><div id=\"info-text\" class=\"style-scope ytd-video-primary-info-renderer\"><div id=\"count\" class=\"style-scope ytd-video-primary-info-renderer\"><yt-view-count-renderer class=\"style-scope ytd-video-primary-info-renderer\" small_=\"\"><span class=\"view-count style-scope yt-view-count-renderer\">14.874 Aufrufe</span><span class=\"short-view-count style-scope yt-view-count-renderer\">14.874 Aufrufe</span></yt-view-count-renderer></div><div id=\"date\" class=\"style-scope ytd-video-primary-info-renderer\"><span id=\"dot\" class=\"style-scope ytd-video-primary-info-renderer\">•</span><yt-formatted-string class=\"style-scope ytd-video-primary-info-renderer\">04.03.2020</yt-formatted-string></div></div><div id=\"flex\" class=\"style-scope ytd-video-primary-info-renderer\"></div><div id=\"menu-container\" class=\"style-scope ytd-video-primary-info-renderer\"><div id=\"menu\" class=\"style-scope ytd-video-primary-info-renderer\"><ytd-menu-renderer class=\"style-scope ytd-video-primary-info-renderer\" menu-active=\"\"><div id=\"top-level-buttons\" class=\"style-scope ytd-menu-renderer\"><ytd-toggle-button-renderer class=\"style-scope ytd-menu-renderer force-icon-button style-text\" use-keyboard-focused=\"\" button-renderer=\"true\" style-action-button=\"\" is-icon-button=\"\"><a class=\"yt-simple-endpoint style-scope ytd-toggle-button-renderer\" tabindex=\"-1\"><yt-icon-button id=\"button\" class=\"style-scope ytd-toggle-button-renderer style-text\"><button id=\"button\" class=\"style-scope yt-icon-button\" aria-label=\"Ich mag das Video (wie 181 andere auch)\" aria-pressed=\"false\"><yt-icon class=\"style-scope ytd-toggle-button-renderer\"><svg viewBox=\"0 0 24 24\" preserveAspectRatio=\"xMidYMid meet\" focusable=\"false\" class=\"style-scope yt-icon\" style=\"pointer-events: none; display: block; width: 100%; height: 100%;\"><g class=\"style-scope yt-icon\"><path d=\"M1 21h4V9H1v12zm22-11c0-1.1-.9-2-2-2h-6.31l.95-4.57.03-.32c0-.41-.17-.79-.44-1.06L14.17 1 7.59 7.59C7.22 7.95 7 8.45 7 9v10c0 1.1.9 2 2 2h9c.83 0 1.54-.5 1.84-1.22l3.02-7.05c.09-.23.14-.47.14-.73v-1.91l-.01-.01L23 10z\" class=\"style-scope yt-icon\"></path></g></svg></yt-icon></button></yt-icon-button><yt-formatted-string id=\"text\" class=\"style-scope ytd-toggle-button-renderer style-text\" aria-label=\"181&nbsp;&quot;Mag ich&quot;-Bewertungen\">181</yt-formatted-string></a></ytd-toggle-button-renderer><ytd-toggle-button-renderer class=\"style-scope ytd-menu-renderer force-icon-button style-text\" use-keyboard-focused=\"\" button-renderer=\"true\" style-action-button=\"\" is-icon-button=\"\"><a class=\"yt-simple-endpoint style-scope ytd-toggle-button-renderer\" tabindex=\"-1\"><yt-icon-button id=\"button\" class=\"style-scope ytd-toggle-button-renderer style-text\"><button id=\"button\" class=\"style-scope yt-icon-button\" aria-label=\"Ich mag das Video nicht (wie 3 andere)\" aria-pressed=\"false\"><yt-icon class=\"style-scope ytd-toggle-button-renderer\"><svg viewBox=\"0 0 24 24\" preserveAspectRatio=\"xMidYMid meet\" focusable=\"false\" class=\"style-scope yt-icon\" style=\"pointer-events: none; display: block; width: 100%; height: 100%;\"><g class=\"style-scope yt-icon\"><path d=\"M15 3H6c-.83 0-1.54.5-1.84 1.22l-3.02 7.05c-.09.23-.14.47-.14.73v1.91l.01.01L1 14c0 1.1.9 2 2 2h6.31l-.95 4.57-.03.32c0 .41.17.79.44 1.06L9.83 23l6.59-6.59c.36-.36.58-.86.58-1.41V5c0-1.1-.9-2-2-2zm4 0v12h4V3h-4z\" class=\"style-scope yt-icon\"></path></g></svg></yt-icon></button></yt-icon-button><yt-formatted-string id=\"text\" class=\"style-scope ytd-toggle-button-renderer style-text\" aria-label=\"3&nbsp;&quot;Mag ich nicht&quot;-Bewertungen\">3</yt-formatted-string></a></ytd-toggle-button-renderer><ytd-button-renderer class=\"style-scope ytd-menu-renderer force-icon-button style-default size-default\" use-keyboard-focused=\"\" button-renderer=\"true\" style-action-button=\"\" is-icon-button=\"\"><a class=\"yt-simple-endpoint style-scope ytd-button-renderer\" tabindex=\"-1\"><yt-icon-button id=\"button\" class=\"style-scope ytd-button-renderer style-default size-default\"><button id=\"button\" class=\"style-scope yt-icon-button\" aria-label=\"Teilen\"><yt-icon class=\"style-scope ytd-button-renderer\"><svg viewBox=\"0 0 24 24\" preserveAspectRatio=\"xMidYMid meet\" focusable=\"false\" class=\"style-scope yt-icon\" style=\"pointer-events: none; display: block; width: 100%; height: 100%;\"><g mirror-in-rtl=\"\" class=\"style-scope yt-icon\"><path d=\"M14 9V3L22 12L14 21V15C8.44 15 4.78 17.03 2 21C3.11 15.33 6.22 10.13 14 9Z\" class=\"style-scope yt-icon\"></path></g></svg></yt-icon></button></yt-icon-button><yt-formatted-string id=\"text\" class=\"style-scope ytd-button-renderer style-default size-default\">Teilen</yt-formatted-string></a></ytd-button-renderer><ytd-button-renderer class=\"style-scope ytd-menu-renderer force-icon-button style-default size-default\" use-keyboard-focused=\"\" button-renderer=\"true\" style-action-button=\"\" is-icon-button=\"\"><a class=\"yt-simple-endpoint style-scope ytd-button-renderer\" tabindex=\"-1\"><yt-icon-button id=\"button\" class=\"style-scope ytd-button-renderer style-default size-default\"><button id=\"button\" class=\"style-scope yt-icon-button\" aria-label=\"Zu Playlist hinzufügen\"><yt-icon class=\"style-scope ytd-button-renderer\"><svg viewBox=\"0 0 24 24\" preserveAspectRatio=\"xMidYMid meet\" focusable=\"false\" class=\"style-scope yt-icon\" style=\"pointer-events: none; display: block; width: 100%; height: 100%;\"><g class=\"style-scope yt-icon\"><path d=\"M14 10H2v2h12v-2zm0-4H2v2h12V6zm4 8v-4h-2v4h-4v2h4v4h2v-4h4v-2h-4zM2 16h8v-2H2v2z\" class=\"style-scope yt-icon\"></path></g></svg></yt-icon></button></yt-icon-button><yt-formatted-string id=\"text\" class=\"style-scope ytd-button-renderer style-default size-default\">Speichern</yt-formatted-string></a></ytd-button-renderer></div>\\n<yt-icon-button id=\"button\" class=\"dropdown-trigger style-scope ytd-menu-renderer\"><button id=\"button\" class=\"style-scope yt-icon-button\" aria-label=\"Mehr Aktionen\">\\n  <yt-icon class=\"style-scope ytd-menu-renderer\"><svg viewBox=\"0 0 24 24\" preserveAspectRatio=\"xMidYMid meet\" focusable=\"false\" class=\"style-scope yt-icon\" style=\"pointer-events: none; display: block; width: 100%; height: 100%;\"><g class=\"style-scope yt-icon\"><circle cx=\"5\" cy=\"12\" r=\"2\" class=\"style-scope yt-icon\"></circle><circle cx=\"12\" cy=\"12\" r=\"2\" class=\"style-scope yt-icon\"></circle><circle cx=\"19\" cy=\"12\" r=\"2\" class=\"style-scope yt-icon\"></circle></g></svg></yt-icon>\\n</button></yt-icon-button>\\n</ytd-menu-renderer></div><ytd-sentiment-bar-renderer id=\"sentiment\" class=\"style-scope ytd-video-primary-info-renderer\" style=\"width: 124px;\"><div id=\"container\" class=\"style-scope ytd-sentiment-bar-renderer\">\\n  <div id=\"like-bar\" class=\"style-scope ytd-sentiment-bar-renderer\" style=\"width: 98%;\"></div>\\n</div>\\n<paper-tooltip position=\"top\" class=\"style-scope ytd-sentiment-bar-renderer\" role=\"tooltip\" tabindex=\"-1\">\\n    \\n\\n    <div id=\"tooltip\" class=\"hidden style-scope paper-tooltip\">\\n      181 / 3\\n    </div>\\n</paper-tooltip>\\n</ytd-sentiment-bar-renderer></div></div></div></ytd-video-primary-info-renderer></div>'"
      ]
     },
     "execution_count": 31,
     "metadata": {},
     "output_type": "execute_result"
    }
   ],
   "source": [
    "# scrape and parse Video Likes & Dislikes\n",
    "\n",
    "# returns html as string\n",
    "# function is asynchronous and therefore it has to be awaited\n",
    "async def _scrape_and_parse_video_meta_data(url: str, log_ = True):\n",
    "    if \"youtube.com\" in url:\n",
    "        return await scrape(\n",
    "            url, \n",
    "            \"div#info-contents\",#\"div.ytd-video-primary-info-renderer\", \n",
    "            \"(element) => element.outerHTML\", \n",
    "            bypass_google_anti_scrape_algorithm_ = True,\n",
    "            log_ = log_\n",
    "        )\n",
    "    else:\n",
    "        print(\"Wrong url format given!\")\n",
    "        \n",
    "await _scrape_and_parse_video_meta_data(\"https://www.youtube.com/watch?v=dyN_WtjdfpA&list=PLhTjy8cBISEoOtB5_nwykvB9wfEDscuEo\", log_ = False)"
   ]
  },
  {
   "cell_type": "code",
   "execution_count": 7,
   "metadata": {},
   "outputs": [
    {
     "data": {
      "text/plain": [
       "[('morthim', \"i'm really impressed by your emotions dict.\"),\n",
       " ('vaishnavi kulkarni',\n",
       "  'your space invader game tutorial is amazing! Hope to see more videos on python during Quarantine!!'),\n",
       " ('IndieSpaceAstronaut', 'Love the hashtags lol'),\n",
       " ('reda bekka', 'PLease can u make a course of mouvment detections'),\n",
       " ('Dr Scary', 'Our Boiii Is Back Lol :)'),\n",
       " ('Usama Iftikhar Butt', 'please upload 2 3 videos weekly'),\n",
       " ('Usama Iftikhar Butt', 'great series'),\n",
       " ('Alma Jose',\n",
       "  'can someone please give me code for finding different emotions like sad happy angry and neutral from lyrics of song.'),\n",
       " ('Aditya Pai Thon', 'Boii is bacccc'),\n",
       " ('Hasna Bouazza', 'could we have the code .py')]"
      ]
     },
     "execution_count": 7,
     "metadata": {},
     "output_type": "execute_result"
    }
   ],
   "source": [
    "# scrape and parse comments with authors\n",
    "\n",
    "# returns list of tuples [(Author, Comment), (...), ...]\n",
    "# function is asynchronous and therefore it has to be awaited\n",
    "async def _scrape_and_parse_youtube_comments(url: str, log_ = True):\n",
    "    if \"youtube.com\" in url:\n",
    "        html = await scrape(url, \"ytd-comments\", \"(element) => element.outerHTML\", bypass_google_anti_scrape_algorithm_ = True, log_ = log_)\n",
    "        \n",
    "        return _parse_comments_with_corresponding_authors(html, log_ = log_)\n",
    "    else:\n",
    "        print(\"Wrong url format given!\")\n",
    "        \n",
    "await _scrape_and_parse_youtube_comments(\"https://www.youtube.com/watch?v=dyN_WtjdfpA&list=PLhTjy8cBISEoOtB5_nwykvB9wfEDscuEo\", log_ = False)"
   ]
  },
  {
   "cell_type": "code",
   "execution_count": 24,
   "metadata": {},
   "outputs": [],
   "source": [
    "\n",
    "# Scraping transaction : \n",
    "\n",
    "def _scrape_and_store_video(tx, httpUrl_, title_): # \"tx\" is a neo4j transaction...\n",
    "    result = tx.run(\"CREATE (v:Video) \"\n",
    "                    \"SET v = {title: $title, url: $url}\"\n",
    "                    \"RETURN v.title + ', from node ' + id(v)\", title=title_, url=httpUrl_)\n",
    "    print('Video \"',title_,'\" send to database...')\n",
    "    return result\n",
    "\n",
    "def _scrape_and_store_video_comments(tx, httpUrl_, comments_with_authors_):\n",
    "    author_result = []\n",
    "    comment_result = []\n",
    "    for author, comment in comments_with_authors_:\n",
    "        author_result.append(tx.run(\"CREATE (a:Author)\"\n",
    "                  \"SET a = {name: $name, content: $content}\"\n",
    "                  \"RETURN a.name + ', created as Author with id ' + id(a)\", name=author, content=comment))\n",
    "        \n",
    "        comment_result.append(tx.run(\n",
    "            \"\"\"\n",
    "                MATCH (v:Video), (a:Author)\n",
    "                WHERE v.url = '%s' AND a.name = '%s'\n",
    "                CREATE (a) - [r:%s { text: \"%s\" }] -> (v)\n",
    "                RETURN v.title, type(r), r.text, a.name\n",
    "            \"\"\" % ( httpUrl_, author, \"COMMENTED\", comment)))\n",
    "    print('Comments send to database...')\n",
    "    return zip(author_result, comment_result)"
   ]
  },
  {
   "cell_type": "markdown",
   "metadata": {},
   "source": [
    "## Using Neo4j for data storage : ##"
   ]
  },
  {
   "cell_type": "code",
   "execution_count": 25,
   "metadata": {},
   "outputs": [],
   "source": [
    "from neo4j import GraphDatabase\n",
    "\n",
    "uri, user, password = 'bolt://localhost:7687', 'neo4j', 'neo4j_'\n"
   ]
  },
  {
   "cell_type": "code",
   "execution_count": 26,
   "metadata": {},
   "outputs": [
    {
     "name": "stdout",
     "output_type": "stream",
     "text": [
      "-------------------------Scrape Log Begin-------------------------- \n",
      "\n",
      "Browser, Incognito Context and Page created\n",
      "User Agent: Mozilla/5.0 (Macintosh; Intel Mac OS X 10_8_0) AppleWebKit/537.36 (KHTML, like Gecko) Chrome/32.0.1664.3 Safari/537.36\n",
      "Url opened: https://www.youtube.com/watch?v=dyN_WtjdfpA&list=PLhTjy8cBISEoOtB5_nwykvB9wfEDscuEo\n",
      "Selector loaded: ytd-comments\n",
      "Request finished\n",
      "Browser closed \n",
      "\n",
      "-------------------------Scrape Log End---------------------------- \n",
      "\n",
      "Finished parsing\n",
      "-------------------------Scrape Log Begin-------------------------- \n",
      "\n",
      "Browser, Incognito Context and Page created\n",
      "User Agent: Mozilla/5.0 (Macintosh; Intel Mac OS X 10_8_3) AppleWebKit/537.36 (KHTML, like Gecko) Chrome/27.0.1453.93 Safari/537.36\n",
      "Url opened: https://www.youtube.com/watch?v=dyN_WtjdfpA&list=PLhTjy8cBISEoOtB5_nwykvB9wfEDscuEo\n",
      "Selector loaded: h1.title\n",
      "Request finished\n",
      "Browser closed \n",
      "\n",
      "-------------------------Scrape Log End---------------------------- \n",
      "\n",
      "Video \" Sentiment Analysis Python - 1 -  Introduction to Emotion Analysis  (NLP) \" send to database...\n",
      "Comments send to database...\n"
     ]
    }
   ],
   "source": [
    "httpUrls = [\n",
    "    \"https://www.youtube.com/watch?v=dyN_WtjdfpA&list=PLhTjy8cBISEoOtB5_nwykvB9wfEDscuEo\"\n",
    "]\n",
    "\n",
    "\n",
    "driver = GraphDatabase.driver(uri, auth=(user, password))\n",
    "\n",
    "# resetting database\n",
    "\n",
    "with driver.session() as session:\n",
    "    def _q(query) : return session.run(query)\n",
    "    #---------------------------------------\n",
    "\n",
    "    _q(\"MATCH (n) DETACH DELETE n\") # remove all graphs and nodes! BE CAREFUL!\n",
    "\n",
    "    #---------------------------------------\n",
    "driver.close()\n",
    "\n",
    "with driver.session() as session:\n",
    "    for url in httpUrls :\n",
    "        trials = 3\n",
    "        while trials != 0 :\n",
    "            try :\n",
    "                # run await outside of transaction because asynchronous transactions for Neo4j are not yet available for Python\n",
    "                comments_with_authors = await _scrape_and_parse_youtube_comments(url, log_ = True)\n",
    "                video_title = await _scrape_and_parse_youtube_title(url, log_ = True)\n",
    "\n",
    "                result = session.write_transaction(_scrape_and_store_video, url, video_title)\n",
    "                #print(result)\n",
    "\n",
    "                result = session.write_transaction(_scrape_and_store_video_comments, url, comments_with_authors)\n",
    "                #print(result)\n",
    "                trials = 0\n",
    "            except :\n",
    "                print('WARNING! : Scraping trial',trials,'failed for url=\"',url,'\"!') \n",
    "                trials -= 1\n",
    "\n",
    "driver.close()"
   ]
  },
  {
   "cell_type": "code",
   "execution_count": null,
   "metadata": {},
   "outputs": [],
   "source": []
  }
 ],
 "metadata": {
  "kernelspec": {
   "display_name": "Python 3",
   "language": "python",
   "name": "python3"
  },
  "language_info": {
   "codemirror_mode": {
    "name": "ipython",
    "version": 3
   },
   "file_extension": ".py",
   "mimetype": "text/x-python",
   "name": "python",
   "nbconvert_exporter": "python",
   "pygments_lexer": "ipython3",
   "version": "3.7.9"
  }
 },
 "nbformat": 4,
 "nbformat_minor": 4
}
