{
 "cells": [
  {
   "cell_type": "markdown",
   "metadata": {},
   "source": [
    "\n",
    "# Youtube - Scaper\n",
    "\n"
   ]
  },
  {
   "cell_type": "code",
   "execution_count": null,
   "metadata": {},
   "outputs": [],
   "source": [
    "\n",
    "import requests\n",
    "from bs4 import BeautifulSoup\n",
    "\n",
    "\n",
    "headers= {\"User-Agent\": \"Mozilla/5.0 (compatible; Googlebot/2.1; +http://www.google.com/bot.html)\"}\n",
    "def video_finder():\n",
    "    word = input(\"Enter video title: \")\n",
    "\n",
    "    params = {\n",
    "        'search_query': word\n",
    "    }\n",
    "\n",
    "    vid = requests.get('https://www.youtube.com/results', params=params, headers=headers)\n",
    "    soup = BeautifulSoup(vid.content, features='html.parser')\n",
    "    a_Tag = soup.find('a', class_=\"yt-uix-tile-link yt-ui-ellipsis yt-ui-ellipsis-2 yt-uix-sessionlink spf-link\", href=lambda h: h.startswith('/watch?'))\n",
    "    Video_name = a_Tag.text\n",
    "    Video_id = a_Tag['href']\n",
    "    video_link = 'https://www.youtube.com' + Video_id\n",
    "    print(Video_name)\n",
    "    print(video_link)\n",
    "\n",
    "video_finder()\n"
   ]
  },
  {
   "cell_type": "code",
   "execution_count": null,
   "metadata": {},
   "outputs": [],
   "source": [
    "\n",
    "# Scraping transaction : \n",
    "\n",
    "def _scrape_and_store(tx, httpUrl): # \"tx\" is a neo4j transaction...\n",
    "    #... TODO ...\n",
    "    result = tx.run(\"\")\n",
    "    return result.single()[0] # TODO\n"
   ]
  },
  {
   "cell_type": "markdown",
   "metadata": {},
   "source": [
    "## Using Neo4j for data storage : ##"
   ]
  },
  {
   "cell_type": "code",
   "execution_count": null,
   "metadata": {},
   "outputs": [],
   "source": [
    "from neo4j import GraphDatabase\n",
    "\n",
    "uri, user, password = 'bolt://localhost:7687', 'neo4j', 'neo4j_'\n"
   ]
  },
  {
   "cell_type": "code",
   "execution_count": null,
   "metadata": {},
   "outputs": [],
   "source": [
    "httpUrls = [\n",
    "    #...\n",
    "]\n",
    "\n",
    "\n",
    "driver = GraphDatabase.driver(uri, auth=(user, password))\n",
    "\n",
    "with driver.session() as session:\n",
    "    for url in httpUrls :\n",
    "        result = session.write_transaction(_scrape_and_store, url)\n",
    "        print(result)\n",
    "\n",
    "driver.close()"
   ]
  }
 ],
 "metadata": {
  "kernelspec": {
   "display_name": "Python 3",
   "language": "python",
   "name": "python3"
  },
  "language_info": {
   "codemirror_mode": {
    "name": "ipython",
    "version": 3
   },
   "file_extension": ".py",
   "mimetype": "text/x-python",
   "name": "python",
   "nbconvert_exporter": "python",
   "pygments_lexer": "ipython3",
   "version": "3.8.5"
  }
 },
 "nbformat": 4,
 "nbformat_minor": 4
}
